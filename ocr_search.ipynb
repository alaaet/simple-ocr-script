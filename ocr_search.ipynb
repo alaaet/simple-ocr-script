{
 "cells": [
  {
   "cell_type": "code",
   "execution_count": null,
   "metadata": {},
   "outputs": [],
   "source": [
    "pip install easyocr torch"
   ]
  },
  {
   "cell_type": "code",
   "execution_count": 12,
   "metadata": {},
   "outputs": [],
   "source": [
    "import os\n",
    "from typing import List\n",
    "import easyocr\n"
   ]
  },
  {
   "cell_type": "markdown",
   "metadata": {},
   "source": [
    "# Setup reader ocr\n"
   ]
  },
  {
   "cell_type": "code",
   "execution_count": 13,
   "metadata": {},
   "outputs": [
    {
     "name": "stderr",
     "output_type": "stream",
     "text": [
      "Using CPU. Note: This module is much faster with a GPU.\n"
     ]
    }
   ],
   "source": [
    "reader = easyocr.Reader(['en'], gpu=False)"
   ]
  },
  {
   "cell_type": "code",
   "execution_count": 14,
   "metadata": {},
   "outputs": [],
   "source": [
    "def ocr_scan(image_path: str) -> str:\n",
    "    \"\"\"Running ocr over the image\"\"\"\n",
    "    result = reader.readtext(str(image_path))\n",
    "    recognized_text = \"\".join(elem[1] for elem in result)\n",
    "    return recognized_text"
   ]
  },
  {
   "cell_type": "code",
   "execution_count": 15,
   "metadata": {},
   "outputs": [
    {
     "data": {
      "text/plain": [
       "'GeeksforGeeksComputer Science Portal for GeeksHow many times were you frustrated while looking out forgoodcollection of programming/ algorithm/ interview questions? What didFemeyou expect and what did youThis portal has been created toprovide well written, well thought and well explained solutions forselectedquestions.AnIITRoorkeealumnusandfounderofGeeksforGeeks_He loves to solve programming problems in mostefficient ways Apart from GeeksforGeeks, he has worked with DEShaw and Co.assoftware developer and JIIT Noida as an assistant professor It isplatformto learn  programmingIt isan  educationalwebsite. Prepare   fortheRecruitment drive of product based companies like Microsoft, Amazon; Adobe etc withfree online placement preparation course.get?good'"
      ]
     },
     "execution_count": 15,
     "metadata": {},
     "output_type": "execute_result"
    }
   ],
   "source": [
    "image_path = \"./images/test0.png\"\n",
    "ocr_scan(image_path)"
   ]
  },
  {
   "cell_type": "code",
   "execution_count": 36,
   "metadata": {},
   "outputs": [],
   "source": [
    "def search_images(directory: str, keyword: str) -> List[str]:\n",
    "    \"\"\"\"Looping over images inside a folder and running the OCR on them\"\"\"\n",
    "    matching_images = []\n",
    "    image_exts = (\".png\", \".jpg\", \".jpeg\")\n",
    "    for root, dir, files in os.walk(directory):\n",
    "        for file in files:\n",
    "            if file.endswith(image_exts):\n",
    "                image_path = os.path.join(root, file)\n",
    "                recognized_text = ocr_scan(image_path)\n",
    "                if keyword.lower() in recognized_text.lower():\n",
    "                    matching_images.append(image_path)\n",
    "    return matching_images\n"
   ]
  },
  {
   "cell_type": "code",
   "execution_count": 37,
   "metadata": {},
   "outputs": [
    {
     "data": {
      "text/plain": [
       "['./images/test1.png', './images/test3.jpg', './images/test4.png']"
      ]
     },
     "execution_count": 37,
     "metadata": {},
     "output_type": "execute_result"
    }
   ],
   "source": [
    "search_images(\"./images/\", \"lorem\")"
   ]
  },
  {
   "cell_type": "markdown",
   "metadata": {},
   "source": []
  }
 ],
 "metadata": {
  "kernelspec": {
   "display_name": "Python 3",
   "language": "python",
   "name": "python3"
  },
  "language_info": {
   "codemirror_mode": {
    "name": "ipython",
    "version": 3
   },
   "file_extension": ".py",
   "mimetype": "text/x-python",
   "name": "python",
   "nbconvert_exporter": "python",
   "pygments_lexer": "ipython3",
   "version": "3.10.12"
  }
 },
 "nbformat": 4,
 "nbformat_minor": 2
}
